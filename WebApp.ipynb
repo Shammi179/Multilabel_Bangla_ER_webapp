{
  "cells": [
    {
      "cell_type": "code",
      "execution_count": null,
      "metadata": {
        "id": "1ervA3rbFiFy"
      },
      "outputs": [],
      "source": [
        "! pip install simpletransformers streamlit pyngrok -q"
      ]
    },
    {
      "cell_type": "code",
      "execution_count": 2,
      "metadata": {
        "colab": {
          "base_uri": "https://localhost:8080/"
        },
        "id": "3unJvGZkG-YI",
        "outputId": "d79b16cb-945c-4d06-8a47-2d3f2808293d"
      },
      "outputs": [
        {
          "name": "stdout",
          "output_type": "stream",
          "text": [
            "Mounted at /content/drive\n"
          ]
        }
      ],
      "source": [
        "from google.colab import drive\n",
        "drive.mount('/content/drive')"
      ]
    },
    {
      "cell_type": "code",
      "execution_count": 3,
      "metadata": {
        "id": "8MfeVYrUFmX2"
      },
      "outputs": [],
      "source": [
        "import pandas as pd\n",
        "import re\n",
        "import torch "
      ]
    },
    {
      "cell_type": "code",
      "execution_count": 4,
      "metadata": {
        "id": "o1XYv2QPGVwr"
      },
      "outputs": [],
      "source": [
        "# Loading the saved model\n",
        "saved_model = torch.load('/content/drive/MyDrive/Research/ER model/banglaER')"
      ]
    },
    {
      "cell_type": "markdown",
      "metadata": {
        "id": "oRSb3Uz_Bu8P"
      },
      "source": [
        "## Writing Streamlit App"
      ]
    },
    {
      "cell_type": "code",
      "execution_count": 10,
      "metadata": {
        "colab": {
          "base_uri": "https://localhost:8080/"
        },
        "id": "sV92sNOAJ2Ww",
        "outputId": "b58ac841-2286-4a8d-8396-d53f9338cf45"
      },
      "outputs": [
        {
          "name": "stdout",
          "output_type": "stream",
          "text": [
            "Overwriting app.py\n"
          ]
        }
      ],
      "source": [
        "%%writefile app.py\n",
        "import streamlit as st\n",
        "import pandas as pd\n",
        "import re\n",
        "import torch \n",
        "\n",
        "saved_model = torch.load('/content/drive/MyDrive/Research/ER model/banglaER')\n",
        "\n",
        "st.title(\"Bangla Emotion Recognition\")\n",
        "st.text(\"A context-based approach for multilabel emotion recognition from bangla text\")\n",
        "st.text(\"\")\n",
        "\n",
        "t_input = st.empty()\n",
        "comment = t_input.text_input(\"বাংলায় আপনার কমেন্টটি লিখুন:\", placeholder=\"আমি বাংলাদেশকে ভালোবাসি।\")\n",
        "suggest_cmnt = [\"এটা খুবই ভালো উদ্যোগ।\", \"এরা মানুষ নামের কলংক।\", \"তোরা ধোয়া তুলসীপাতা।\"]\n",
        "cols = st.columns(4)\n",
        "s_btn0 = cols[0].button(suggest_cmnt[0])\n",
        "s_btn1 = cols[1].button(suggest_cmnt[1])\n",
        "s_btn2 = cols[2].button(suggest_cmnt[2])\n",
        "\n",
        "if s_btn0:\n",
        "\tcomment = t_input.text_input(\"বাংলায় আপনার কমেন্টটি লিখুনঃ\", value=suggest_cmnt[0])\n",
        "elif s_btn1:\n",
        "\tcomment = t_input.text_input(\"বাংলায় আপনার কমেন্টটি লিখুনঃ\", value=suggest_cmnt[1])\n",
        "elif s_btn2:\n",
        "\tcomment = t_input.text_input(\"বাংলায় আপনার কমেন্টটি লিখুনঃ\", value=suggest_cmnt[2])\n",
        "\n",
        "btn = st.button(\"সাবমিট\")\n",
        "\n",
        "emotions = [\"Anger\", \"Contempt\", \"Disgust\", \"Enjoyment\", \"Sadness\"]\n",
        "\n",
        "st.text(\"\")\n",
        "st.text(\"\")\n",
        "\n",
        "st.markdown(\n",
        "    \"\"\"\n",
        "    <style>\n",
        "        div[data-testid=\"column\"]\n",
        "        {\n",
        "            text-align: center;\n",
        "        } \n",
        "    </style>\n",
        "    \"\"\",unsafe_allow_html=True\n",
        ")\n",
        "success = \"\"\"\n",
        "\t\t<p style='background-color: rgb(194, 240, 194);\n",
        "\t\tfont-size: 20px;\n",
        "\t\tborder-radius: 7px;\n",
        "\t\talign: center;\n",
        "\t\tline-height: 50px;\n",
        "\t\ttext-align: center;'>\n",
        "\t\t✅</style></p>\n",
        "\t\t\"\"\"\n",
        "error = \"\"\"\n",
        "\t\t<p style='background-color: rgb(255, 204, 204);\n",
        "\t\tfont-size: 20px;\n",
        "\t\tborder-radius: 7px;\n",
        "\t\talign: center;\n",
        "\t\tline-height: 50px;\n",
        "\t\ttext-align: center;'>\n",
        "\t\t🚫</style></p>\n",
        "\t\t\"\"\"\n",
        "\t\t\n",
        "\n",
        "if comment != \"\" or btn:\n",
        "\tf_comment = re.sub('[^\\u0980-\\u09FF]',' ',str(comment)) #removing unnecessary punctuation\n",
        "\tf_comment = f_comment.strip()\n",
        "\n",
        "\tpredictions, raw_outputs = saved_model.predict([f_comment])\n",
        "\traw = raw_outputs[0]*100\n",
        "\tcols = st.columns(5)\n",
        "\tfor i in range(5):\n",
        "\t\tcols[i].text(emotions[i])\n",
        "\t\tcols[i].markdown(f\"![{emotions[i]} Gif](https://raw.githubusercontent.com/Shammi179/Multilabel_Bangla_ER_webapp/master/gifs/{emotions[i]}64.gif)\")\n",
        "\t\t\n",
        "\t\tif predictions[0][i] or raw[i]>50:\n",
        "\t\t\tcols[i].markdown(success, unsafe_allow_html=True)\n",
        "\t\telse:\n",
        "\t\t\tcols[i].markdown(error, unsafe_allow_html=True)\n",
        "\n",
        "st.text(\"\")\n",
        "st.text(\"\")\n",
        "st.text(\"\")\n",
        "st.text(\"\")\n",
        "\n",
        "st.write(\"Copyright © 2023 Dynamic DUO.\")"
      ]
    },
    {
      "cell_type": "markdown",
      "metadata": {
        "id": "dFePyJSxBcoa"
      },
      "source": [
        "## Deploying the WebApp"
      ]
    },
    {
      "cell_type": "code",
      "execution_count": 6,
      "metadata": {
        "id": "72SimsEiGshB"
      },
      "outputs": [],
      "source": [
        "from pyngrok import ngrok"
      ]
    },
    {
      "cell_type": "code",
      "execution_count": 7,
      "metadata": {
        "colab": {
          "base_uri": "https://localhost:8080/"
        },
        "id": "_CPKuv2GJJsZ",
        "outputId": "872a0ff6-0968-45e6-8f11-bcac2ac22266"
      },
      "outputs": [
        {
          "name": "stdout",
          "output_type": "stream",
          "text": []
        }
      ],
      "source": [
        "ngrok.set_auth_token(AUTH_TOKEN) #ngrok.com"
      ]
    },
    {
      "cell_type": "code",
      "execution_count": 8,
      "metadata": {
        "colab": {
          "base_uri": "https://localhost:8080/"
        },
        "id": "0PKjJab8JUWG",
        "outputId": "a5a3c903-8430-4109-92b8-3b83801b9fa0"
      },
      "outputs": [
        {
          "name": "stdout",
          "output_type": "stream",
          "text": [
            "nohup: appending output to 'nohup.out'\n",
            "NgrokTunnel: \"http://0b17-34-73-243-214.ngrok.io\" -> \"http://localhost:80\"\n"
          ]
        }
      ],
      "source": [
        "!nohup streamlit run app.py --server.port 80 &\n",
        "url = ngrok.connect(port = '80')\n",
        "print(url)"
      ]
    }
  ],
  "metadata": {
    "accelerator": "GPU",
    "colab": {
      "provenance": []
    },
    "gpuClass": "standard",
    "kernelspec": {
      "display_name": "Python 3",
      "name": "python3"
    },
    "language_info": {
      "name": "python"
    }
  },
  "nbformat": 4,
  "nbformat_minor": 0
}
