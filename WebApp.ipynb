{
  "nbformat": 4,
  "nbformat_minor": 0,
  "metadata": {
    "colab": {
      "provenance": []
    },
    "kernelspec": {
      "name": "python3",
      "display_name": "Python 3"
    },
    "language_info": {
      "name": "python"
    },
    "gpuClass": "standard",
    "accelerator": "GPU"
  },
  "cells": [
    {
      "cell_type": "code",
      "execution_count": null,
      "metadata": {
        "id": "1ervA3rbFiFy"
      },
      "outputs": [],
      "source": [
        "! pip install simpletransformers streamlit pyngrok -q"
      ]
    },
    {
      "cell_type": "code",
      "source": [
        "from google.colab import drive\n",
        "drive.mount('/content/drive')"
      ],
      "metadata": {
        "colab": {
          "base_uri": "https://localhost:8080/"
        },
        "id": "3unJvGZkG-YI",
        "outputId": "d79b16cb-945c-4d06-8a47-2d3f2808293d"
      },
      "execution_count": 2,
      "outputs": [
        {
          "output_type": "stream",
          "name": "stdout",
          "text": [
            "Mounted at /content/drive\n"
          ]
        }
      ]
    },
    {
      "cell_type": "code",
      "source": [
        "import pandas as pd\n",
        "import re\n",
        "import torch "
      ],
      "metadata": {
        "id": "8MfeVYrUFmX2"
      },
      "execution_count": 3,
      "outputs": []
    },
    {
      "cell_type": "code",
      "source": [
        "# Loading the saved model\n",
        "saved_model = torch.load('/content/drive/MyDrive/Research/ER model/banglaER')"
      ],
      "metadata": {
        "id": "o1XYv2QPGVwr"
      },
      "execution_count": 4,
      "outputs": []
    },
    {
      "cell_type": "markdown",
      "source": [
        "## Writing Streamlit App"
      ],
      "metadata": {
        "id": "oRSb3Uz_Bu8P"
      }
    },
    {
      "cell_type": "code",
      "source": [
        "%%writefile app.py\n",
        "import streamlit as st\n",
        "import pandas as pd\n",
        "import re\n",
        "import torch \n",
        "\n",
        "saved_model = torch.load('/content/drive/MyDrive/Research/ER model/banglaER')\n",
        "\n",
        "st.title(\"Bangla Emotion Recognition\")\n",
        "st.text(\"A context-based approach for multilabel emotion recognition from bangla text\")\n",
        "st.text(\"\")\n",
        "\n",
        "t_input = st.empty()\n",
        "comment = t_input.text_input(\"বাংলায় আপনার কমেন্টটি লিখুন:\", placeholder=\"আমি বাংলাদেশকে ভালোবাসি।\")\n",
        "suggest_cmnt = [\"এটা খুবই ভালো উদ্যোগ।\", \"এরা মানুষ নামের কলংক।\", \"তোরা ধোয়া তুলসীপাতা।\"]\n",
        "cols = st.columns(4)\n",
        "s_btn0 = cols[0].button(suggest_cmnt[0])\n",
        "s_btn1 = cols[1].button(suggest_cmnt[1])\n",
        "s_btn2 = cols[2].button(suggest_cmnt[2])\n",
        "\n",
        "if s_btn0:\n",
        "\tcomment = t_input.text_input(\"বাংলায় আপনার কমেন্টটি লিখুনঃ\", value=suggest_cmnt[0])\n",
        "elif s_btn1:\n",
        "\tcomment = t_input.text_input(\"বাংলায় আপনার কমেন্টটি লিখুনঃ\", value=suggest_cmnt[1])\n",
        "elif s_btn2:\n",
        "\tcomment = t_input.text_input(\"বাংলায় আপনার কমেন্টটি লিখুনঃ\", value=suggest_cmnt[2])\n",
        "\n",
        "btn = st.button(\"সাবমিট\")\n",
        "\n",
        "emotions = [\"Anger\", \"Contempt\", \"Disgust\", \"Enjoyment\", \"Sadness\"]\n",
        "\n",
        "st.text(\"\")\n",
        "st.text(\"\")\n",
        "\n",
        "st.markdown(\n",
        "    \"\"\"\n",
        "    <style>\n",
        "        div[data-testid=\"column\"]\n",
        "        {\n",
        "            text-align: center;\n",
        "        } \n",
        "    </style>\n",
        "    \"\"\",unsafe_allow_html=True\n",
        ")\n",
        "success = \"\"\"\n",
        "\t\t<p style='background-color: rgb(194, 240, 194);\n",
        "\t\tfont-size: 20px;\n",
        "\t\tborder-radius: 7px;\n",
        "\t\talign: center;\n",
        "\t\tline-height: 50px;\n",
        "\t\ttext-align: center;'>\n",
        "\t\t✅</style></p>\n",
        "\t\t\"\"\"\n",
        "error = \"\"\"\n",
        "\t\t<p style='background-color: rgb(255, 204, 204);\n",
        "\t\tfont-size: 20px;\n",
        "\t\tborder-radius: 7px;\n",
        "\t\talign: center;\n",
        "\t\tline-height: 50px;\n",
        "\t\ttext-align: center;'>\n",
        "\t\t🚫</style></p>\n",
        "\t\t\"\"\"\n",
        "\t\t\n",
        "\n",
        "if comment != \"\" or btn:\n",
        "\tf_comment = re.sub('[^\\u0980-\\u09FF]',' ',str(comment)) #removing unnecessary punctuation\n",
        "\tf_comment = f_comment.strip()\n",
        "\n",
        "\tpredictions, raw_outputs = saved_model.predict([f_comment])\n",
        "\traw = raw_outputs[0]*100\n",
        "\tcols = st.columns(5)\n",
        "\tfor i in range(5):\n",
        "\t\tcols[i].text(emotions[i])\n",
        "\t\tcols[i].markdown(f\"![{emotions[i]} Gif](https://raw.githubusercontent.com/Shammi179/Multilabel_Bangla_ER_webapp/master/gifs/{emotions[i]}64.gif)\")\n",
        "\t\t\n",
        "\t\tif predictions[0][i] or raw[i]>50:\n",
        "\t\t\tcols[i].markdown(success, unsafe_allow_html=True)\n",
        "\t\telse:\n",
        "\t\t\tcols[i].markdown(error, unsafe_allow_html=True)\n",
        "\n",
        "st.text(\"\")\n",
        "st.text(\"\")\n",
        "st.text(\"\")\n",
        "st.text(\"\")\n",
        "\n",
        "st.write(\"Copyright © 2023 Dynamic DUO.\")"
      ],
      "metadata": {
        "colab": {
          "base_uri": "https://localhost:8080/"
        },
        "id": "sV92sNOAJ2Ww",
        "outputId": "b58ac841-2286-4a8d-8396-d53f9338cf45"
      },
      "execution_count": 10,
      "outputs": [
        {
          "output_type": "stream",
          "name": "stdout",
          "text": [
            "Overwriting app.py\n"
          ]
        }
      ]
    },
    {
      "cell_type": "markdown",
      "source": [
        "## Deploying the WebApp"
      ],
      "metadata": {
        "id": "dFePyJSxBcoa"
      }
    },
    {
      "cell_type": "code",
      "source": [
        "from pyngrok import ngrok"
      ],
      "metadata": {
        "id": "72SimsEiGshB"
      },
      "execution_count": 6,
      "outputs": []
    },
    {
      "cell_type": "code",
      "source": [
        "ngrok.set_auth_token(\"2KUdDPf7fH3TXkqlSyj69A0wmZz_6NL8czBcnbEG6qcMBr5gK\") #ngrok.com"
      ],
      "metadata": {
        "id": "_CPKuv2GJJsZ",
        "colab": {
          "base_uri": "https://localhost:8080/"
        },
        "outputId": "872a0ff6-0968-45e6-8f11-bcac2ac22266"
      },
      "execution_count": 7,
      "outputs": [
        {
          "output_type": "stream",
          "name": "stdout",
          "text": []
        }
      ]
    },
    {
      "cell_type": "code",
      "source": [
        "!nohup streamlit run app.py --server.port 80 &\n",
        "url = ngrok.connect(port = '80')\n",
        "print(url)"
      ],
      "metadata": {
        "colab": {
          "base_uri": "https://localhost:8080/"
        },
        "id": "0PKjJab8JUWG",
        "outputId": "a5a3c903-8430-4109-92b8-3b83801b9fa0"
      },
      "execution_count": 8,
      "outputs": [
        {
          "output_type": "stream",
          "name": "stdout",
          "text": [
            "nohup: appending output to 'nohup.out'\n",
            "NgrokTunnel: \"http://0b17-34-73-243-214.ngrok.io\" -> \"http://localhost:80\"\n"
          ]
        }
      ]
    }
  ]
}